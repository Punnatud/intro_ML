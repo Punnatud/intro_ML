{
 "cells": [
  {
   "cell_type": "code",
   "execution_count": 1,
   "metadata": {},
   "outputs": [],
   "source": [
    "import numpy as np\n",
    "import math"
   ]
  },
  {
   "cell_type": "code",
   "execution_count": 2,
   "metadata": {},
   "outputs": [],
   "source": [
    "def llnorm(x, mu, sigma):\n",
    "    n = len(x)\n",
    "    ll = n*math.log(2*math.pi*(sigma**2))/2 + np.sum(((x-mu)**2)/(2 * (sigma**2)))\n",
    "    return -ll"
   ]
  },
  {
   "cell_type": "code",
   "execution_count": 11,
   "metadata": {},
   "outputs": [
    {
     "name": "stdout",
     "output_type": "stream",
     "text": [
      "Theta1 = mu = 165, sigma = 15 : -4.127\n",
      "Theta2 = mu = 166, sigma = 10 : -4.502\n"
     ]
    }
   ],
   "source": [
    "#Calculate problem A.1\n",
    "a1 = np.array([150])\n",
    "print(\"Theta1 = mu = 165, sigma = 15 :\",f\"{llnorm(a1, 165, 15):.3f}\")\n",
    "print(\"Theta2 = mu = 166, sigma = 10 :\",f\"{llnorm(a1, 166, 10):.3f}\")"
   ]
  },
  {
   "cell_type": "code",
   "execution_count": 12,
   "metadata": {},
   "outputs": [
    {
     "name": "stdout",
     "output_type": "stream",
     "text": [
      "Theta1 = mu = 165, sigma = 15 : -39.034\n",
      "Theta2 = mu = 166, sigma = 10 : -38.465\n"
     ]
    }
   ],
   "source": [
    "#Calculate problem A.2\n",
    "a2 = np.array([145, 170,174, 168, 180, 155, 162, 166, 180, 152])\n",
    "print(\"Theta1 = mu = 165, sigma = 15 :\",f\"{llnorm(a2, 165, 15):.3f}\")\n",
    "print(\"Theta2 = mu = 166, sigma = 10 :\",f\"{llnorm(a2, 166, 10):.3f}\")"
   ]
  },
  {
   "cell_type": "code",
   "execution_count": 15,
   "metadata": {},
   "outputs": [],
   "source": [
    "def find_mu(x):\n",
    "    n = len(x)\n",
    "    mu = np.sum(x)/n\n",
    "    return mu\n",
    "def find_sigma(x):\n",
    "    mu =find_mu(x)\n",
    "    n = len(x)\n",
    "    sigma = np.sqrt(np.sum((x-mu)**2)/n)\n",
    "    return sigma"
   ]
  },
  {
   "cell_type": "code",
   "execution_count": 16,
   "metadata": {},
   "outputs": [
    {
     "name": "stdout",
     "output_type": "stream",
     "text": [
      "ThetaB.1 = mu =  150.000 , sigma =  0.000\n",
      "ThetaB.2 = mu =  165.200 , sigma =  11.152\n"
     ]
    }
   ],
   "source": [
    "#Solving problem B.1 and B.2\n",
    "print(\"ThetaB.1 = mu = \", f\"{find_mu(a1):.3f}\", \", sigma = \", f\"{find_sigma(a1):.3f}\")\n",
    "print(\"ThetaB.2 = mu = \", f\"{find_mu(a2):.3f}\", \", sigma = \", f\"{find_sigma(a2):.3f}\")"
   ]
  },
  {
   "cell_type": "code",
   "execution_count": null,
   "metadata": {},
   "outputs": [],
   "source": []
  }
 ],
 "metadata": {
  "kernelspec": {
   "display_name": "introMl",
   "language": "python",
   "name": "python3"
  },
  "language_info": {
   "codemirror_mode": {
    "name": "ipython",
    "version": 3
   },
   "file_extension": ".py",
   "mimetype": "text/x-python",
   "name": "python",
   "nbconvert_exporter": "python",
   "pygments_lexer": "ipython3",
   "version": "3.11.5"
  }
 },
 "nbformat": 4,
 "nbformat_minor": 2
}
