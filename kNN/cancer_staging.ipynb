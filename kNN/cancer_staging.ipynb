{
 "cells": [
  {
   "cell_type": "code",
   "execution_count": 108,
   "metadata": {},
   "outputs": [],
   "source": [
    "import numpy as np\n",
    "import pandas as pd\n",
    "from sklearn.model_selection import train_test_split\n",
    "from sklearn.feature_selection import SelectKBest\n",
    "from sklearn.feature_selection import f_classif\n",
    "import matplotlib.pyplot as plt"
   ]
  },
  {
   "cell_type": "code",
   "execution_count": 109,
   "metadata": {},
   "outputs": [],
   "source": [
    "df = pd.read_csv('../dataset/cancer.csv',)\n",
    "#encode sex data into 0 and 1\n",
    "df = df.replace('F', 0)\n",
    "df = df.replace('M', 1)\n",
    "#encode diagnosis data into 0 1 and 2\n",
    "df = df.replace('Y', 0)\n",
    "df = df.replace('N', 1)\n",
    "df = df.replace('S', 2)"
   ]
  },
  {
   "cell_type": "code",
   "execution_count": 110,
   "metadata": {},
   "outputs": [
    {
     "name": "stdout",
     "output_type": "stream",
     "text": [
      "(310, 14) (310,)\n",
      "Original number of features: 14\n",
      "Reduced number of features: 10\n"
     ]
    },
    {
     "data": {
      "text/plain": [
       "array([[  0. ,   0. ,   0. , ..., 172. , 190. ,  12.2],\n",
       "       [  1. ,   0. ,   0. , ...,  88. , 221. ,  10.6],\n",
       "       [  1. ,   1. ,   1. , ...,  55. , 151. ,  12. ],\n",
       "       ...,\n",
       "       [  1. ,   1. ,   1. , ..., 100. , 234. ,  10.2],\n",
       "       [  1. ,   1. ,   1. , ...,  88. , 335. ,  10.5],\n",
       "       [  1. ,   1. ,   0. , ..., 149. , 200. ,  10.8]])"
      ]
     },
     "execution_count": 110,
     "metadata": {},
     "output_type": "execute_result"
    },
    {
     "data": {
      "image/png": "[encoded data removed]",
      "text/plain": [
       "<Figure size 640x480 with 1 Axes>"
      ]
     },
     "metadata": {},
     "output_type": "display_data"
    }
   ],
   "source": [
    "#split data into X and Y\n",
    "X = np.array(df.drop(['CA level'], axis=1))\n",
    "Y = np.array(df['CA level'])\n",
    "print(X.shape, Y.shape)\n",
    "#plot Y distribution\n",
    "plt.hist(Y)\n",
    "#apply SelectKBest \n",
    "k = 10\n",
    "selector = SelectKBest(f_classif, k=k)\n",
    "X_kbest = selector.fit_transform(X, Y)\n",
    "\n",
    "print('Original number of features:', X.shape[1])\n",
    "print('Reduced number of features:', X_kbest.shape[1])\n",
    "X_kbest = np.array(pd.DataFrame(X_kbest))\n",
    "X_kbest\n"
   ]
  },
  {
   "cell_type": "code",
   "execution_count": 111,
   "metadata": {},
   "outputs": [
    {
     "name": "stdout",
     "output_type": "stream",
     "text": [
      "(248, 10) (248,)\n",
      "(62, 10) (62,)\n"
     ]
    }
   ],
   "source": [
    "#train test split\n",
    "X_train, X_test, Y_train, Y_test = train_test_split(X_kbest, Y, test_size=0.2, random_state=0)\n",
    "print(X_train.shape, Y_train.shape)\n",
    "print(X_test.shape, Y_test.shape)"
   ]
  },
  {
   "cell_type": "code",
   "execution_count": 112,
   "metadata": {},
   "outputs": [],
   "source": [
    "def minkowski_distance(x1, x2, p):\n",
    "    return np.sum(np.abs(x1 - x2) ** p, axis=1) ** (1 / p)\n",
    "\n",
    "#knn function\n",
    "def knn(k, p):\n",
    "    y_pred = []\n",
    "    for i in range(X_test.shape[0]):\n",
    "        distance = minkowski_distance(X_train, X_test[i], p)\n",
    "        distance = np.array(distance)\n",
    "        distance = np.argsort(distance)\n",
    "        distance = distance[:k]\n",
    "        y_pred.append(np.bincount(Y_train[distance]).argmax())\n",
    "    return y_pred"
   ]
  },
  {
   "cell_type": "code",
   "execution_count": 102,
   "metadata": {},
   "outputs": [
    {
     "name": "stdout",
     "output_type": "stream",
     "text": [
      "prediction:  2 actual:  3\n",
      "prediction:  4 actual:  2\n",
      "prediction:  1 actual:  4\n",
      "prediction:  4 actual:  1\n",
      "prediction:  4 actual:  1\n",
      "prediction:  2 actual:  4\n",
      "prediction:  2 actual:  4\n",
      "prediction:  4 actual:  3\n",
      "prediction:  3 actual:  2\n",
      "prediction:  3 actual:  4\n",
      "prediction:  2 actual:  3\n",
      "prediction:  3 actual:  1\n",
      "prediction:  1 actual:  2\n",
      "prediction:  3 actual:  4\n",
      "prediction:  4 actual:  3\n",
      "prediction:  3 actual:  4\n",
      "prediction:  4 actual:  3\n",
      "prediction:  3 actual:  1\n",
      "prediction:  4 actual:  3\n",
      "prediction:  3 actual:  4\n",
      "prediction:  4 actual:  2\n",
      "prediction:  3 actual:  2\n",
      "prediction:  4 actual:  3\n",
      "prediction:  3 actual:  4\n",
      "prediction:  2 actual:  4\n",
      "prediction:  2 actual:  3\n",
      "prediction:  4 actual:  3\n",
      "prediction:  1 actual:  2\n",
      "prediction:  4 actual:  3\n",
      "prediction:  2 actual:  3\n",
      "prediction:  3 actual:  1\n",
      "error:  31 total:  62\n",
      "accuracy:  0.50\n"
     ]
    }
   ],
   "source": [
    "#testing the model\n",
    "y_pred = knn(3, 2)\n",
    "#compare the prediction with the actual result\n",
    "countError = 0\n",
    "for i in range(len(y_pred)):\n",
    "    if(y_pred[i] != Y_test[i]):\n",
    "        countError += 1\n",
    "        print(\"prediction: \",y_pred[i], \"actual: \",Y_test[i])\n",
    "print(\"error: \", countError, \"total: \", len(y_pred))\n",
    "#calculate the accuracy\n",
    "accuracy = np.sum(y_pred == Y_test) / len(Y_test)\n",
    "print(\"accuracy: \", f\"{accuracy:.2f}\")"
   ]
  },
  {
   "cell_type": "code",
   "execution_count": null,
   "metadata": {},
   "outputs": [],
   "source": []
  },
  {
   "cell_type": "code",
   "execution_count": null,
   "metadata": {},
   "outputs": [],
   "source": []
  }
 ],
 "metadata": {
  "kernelspec": {
   "display_name": "introMl",
   "language": "python",
   "name": "python3"
  },
  "language_info": {
   "codemirror_mode": {
    "name": "ipython",
    "version": 3
   },
   "file_extension": ".py",
   "mimetype": "text/x-python",
   "name": "python",
   "nbconvert_exporter": "python",
   "pygments_lexer": "ipython3",
   "version": "3.11.5"
  }
 },
 "nbformat": 4,
 "nbformat_minor": 2
}
