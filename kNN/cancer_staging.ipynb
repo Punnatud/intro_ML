{
 "cells": [
  {
   "cell_type": "code",
   "execution_count": 1,
   "metadata": {},
   "outputs": [],
   "source": [
    "import numpy as np\n",
    "import pandas as pd\n",
    "from sklearn.model_selection import train_test_split\n",
    "from sklearn.feature_selection import SelectKBest\n",
    "from sklearn.feature_selection import f_classif\n",
    "from sklearn.preprocessing import StandardScaler, MinMaxScaler, RobustScaler\n",
    "import matplotlib.pyplot as plt"
   ]
  },
  {
   "cell_type": "code",
   "execution_count": 2,
   "metadata": {},
   "outputs": [],
   "source": [
    "df = pd.read_csv('../dataset/cancer.csv',)\n",
    "#encode sex data into 0 and 1\n",
    "df = df.replace('F', 0)\n",
    "df = df.replace('M', 1)\n",
    "#encode diagnosis data into 0 1 and 2\n",
    "df = df.replace('Y', 0)\n",
    "df = df.replace('N', 1)\n",
    "df = df.replace('S', 2)"
   ]
  },
  {
   "cell_type": "code",
   "execution_count": 3,
   "metadata": {},
   "outputs": [
    {
     "name": "stdout",
     "output_type": "stream",
     "text": [
      "(310, 14) (310,)\n"
     ]
    }
   ],
   "source": [
    "#split data into X and Y\n",
    "X = np.array(df.drop(['CA level'], axis=1))\n",
    "Y = np.array(df['CA level'])\n",
    "print(X.shape, Y.shape)\n",
    "\n",
    "\n",
    "# #apply SelectKBest \n",
    "# k = 14\n",
    "# selector = SelectKBest(f_classif, k=k)\n",
    "# X_kbest = selector.fit_transform(X, Y)\n",
    "\n",
    "# print('Original number of features:', X.shape[1])\n",
    "# print('Reduced number of features:', X_kbest.shape[1])\n",
    "# X_kbest = np.array(pd.DataFrame(X_kbest))\n",
    "# X_kbest\n"
   ]
  },
  {
   "cell_type": "code",
   "execution_count": 4,
   "metadata": {},
   "outputs": [
    {
     "name": "stdout",
     "output_type": "stream",
     "text": [
      "[[ 0.         -1.          0.         ...  1.06666667 -0.53469388\n",
      "   1.45454545]\n",
      " [ 0.          0.          0.         ... -0.33333333 -0.28163265\n",
      "   0.        ]\n",
      " [ 1.          0.          1.         ... -0.88333333 -0.85306122\n",
      "   1.27272727]\n",
      " ...\n",
      " [ 0.          0.          1.         ... -0.13333333 -0.1755102\n",
      "  -0.36363636]\n",
      " [ 0.          0.          1.         ... -0.33333333  0.64897959\n",
      "  -0.09090909]\n",
      " [ 0.          0.          1.         ...  0.68333333 -0.45306122\n",
      "   0.18181818]]\n"
     ]
    }
   ],
   "source": [
    "#scaling data\n",
    "scaler = RobustScaler()\n",
    "X = scaler.fit_transform(X)\n",
    "print(X)"
   ]
  },
  {
   "cell_type": "code",
   "execution_count": 5,
   "metadata": {},
   "outputs": [
    {
     "name": "stdout",
     "output_type": "stream",
     "text": [
      "(248, 14) (248,)\n",
      "(62, 14) (62,)\n"
     ]
    },
    {
     "data": {
      "image/png": "[encoded data removed]",
      "text/plain": [
       "<Figure size 640x480 with 1 Axes>"
      ]
     },
     "metadata": {},
     "output_type": "display_data"
    }
   ],
   "source": [
    "#train test split\n",
    "X_train, X_test, Y_train, Y_test = train_test_split(X, Y, test_size=0.2, random_state=0)\n",
    "print(X_train.shape, Y_train.shape)\n",
    "print(X_test.shape, Y_test.shape)\n",
    "plt.hist(Y)\n",
    "plt.hist(Y_train)\n",
    "plt.hist(Y_test)\n",
    "plt.legend(['data', 'Train', 'Test'])\n",
    "plt.show()"
   ]
  },
  {
   "cell_type": "code",
   "execution_count": 6,
   "metadata": {},
   "outputs": [],
   "source": [
    "def minkowski_distance(x1, x2, p):\n",
    "    return np.sum(np.abs(x1 - x2) ** p, axis=1) ** (1 / p)\n",
    "\n",
    "#knn function\n",
    "def knn(k, p):\n",
    "    y_pred = []\n",
    "    for i in range(X_test.shape[0]):\n",
    "        distance = minkowski_distance(X_train, X_test[i], p)\n",
    "        distance = np.array(distance)\n",
    "        distance = np.argsort(distance)\n",
    "        distance = distance[:k]\n",
    "        y_pred.append(np.bincount(Y_train[distance]).argmax())\n",
    "    return y_pred"
   ]
  },
  {
   "cell_type": "code",
   "execution_count": 9,
   "metadata": {},
   "outputs": [
    {
     "name": "stdout",
     "output_type": "stream",
     "text": [
      "prediction:  3 actual:  4\n",
      "prediction:  4 actual:  3\n",
      "prediction:  3 actual:  2\n",
      "prediction:  3 actual:  4\n",
      "prediction:  3 actual:  4\n",
      "prediction:  3 actual:  2\n",
      "prediction:  3 actual:  1\n",
      "prediction:  2 actual:  1\n",
      "prediction:  4 actual:  2\n",
      "prediction:  2 actual:  3\n",
      "prediction:  2 actual:  3\n",
      "prediction:  3 actual:  1\n",
      "prediction:  4 actual:  3\n",
      "prediction:  3 actual:  4\n",
      "prediction:  3 actual:  4\n",
      "prediction:  4 actual:  1\n",
      "prediction:  2 actual:  3\n",
      "prediction:  3 actual:  2\n",
      "prediction:  3 actual:  2\n",
      "prediction:  2 actual:  3\n",
      "prediction:  3 actual:  4\n",
      "prediction:  3 actual:  2\n",
      "prediction:  2 actual:  1\n",
      "error:  23 total:  62\n",
      "accuracy:  0.63\n"
     ]
    }
   ],
   "source": [
    "#testing the model\n",
    "y_pred = knn(7, 2)\n",
    "#compare the prediction with the actual result\n",
    "countError = 0\n",
    "for i in range(len(y_pred)):\n",
    "    if(y_pred[i] != Y_test[i]):\n",
    "        countError += 1\n",
    "        print(\"prediction: \",y_pred[i], \"actual: \",Y_test[i])\n",
    "print(\"error: \", countError, \"total: \", len(y_pred))\n",
    "#calculate the accuracy\n",
    "accuracy = np.sum(y_pred == Y_test) / len(Y_test)\n",
    "print(\"accuracy: \", f\"{accuracy:.2f}\")"
   ]
  },
  {
   "cell_type": "code",
   "execution_count": null,
   "metadata": {},
   "outputs": [],
   "source": []
  }
 ],
 "metadata": {
  "kernelspec": {
   "display_name": "introMl",
   "language": "python",
   "name": "python3"
  },
  "language_info": {
   "codemirror_mode": {
    "name": "ipython",
    "version": 3
   },
   "file_extension": ".py",
   "mimetype": "text/x-python",
   "name": "python",
   "nbconvert_exporter": "python",
   "pygments_lexer": "ipython3",
   "version": "3.11.5"
  }
 },
 "nbformat": 4,
 "nbformat_minor": 2
}
